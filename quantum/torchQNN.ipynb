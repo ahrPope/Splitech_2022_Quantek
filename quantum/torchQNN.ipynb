{
 "cells": [
  {
   "cell_type": "code",
   "execution_count": 36,
   "metadata": {},
   "outputs": [],
   "source": [
    "import numpy as np\n",
    "import matplotlib.pyplot as plt\n",
    "\n",
    "from torch import Tensor\n",
    "from torch.nn import Linear, CrossEntropyLoss, MSELoss\n",
    "from torch.optim import LBFGS\n",
    "\n",
    "from qiskit import Aer, QuantumCircuit, BasicAer\n",
    "from qiskit.utils import QuantumInstance, algorithm_globals\n",
    "from qiskit.opflow import AerPauliExpectation\n",
    "from qiskit.circuit import Parameter\n",
    "from qiskit.circuit.library import RealAmplitudes, ZZFeatureMap\n",
    "from qiskit_machine_learning.neural_networks import CircuitQNN, TwoLayerQNN\n",
    "from qiskit_machine_learning.connectors import TorchConnector\n",
    "\n",
    "from tensorflow.keras.preprocessing.text import Tokenizer\n",
    "import json\n",
    "\n",
    "import pandas as pd\n",
    "\n",
    "# Set seed for random generators\n",
    "algorithm_globals.random_seed = 42"
   ]
  },
  {
   "cell_type": "code",
   "execution_count": 34,
   "metadata": {},
   "outputs": [],
   "source": [
    "def prepare_x_y(df, unique_actions, number_of_actions):\n",
    "    # recover all the actions in order\n",
    "    #print(df)\n",
    "    actions = df['activity'].values\n",
    "    \n",
    "    timestamps = df.index.values\n",
    "\n",
    "    #timestamps = pd.to_datetime(timestamps, format='%Y%m%d')\n",
    "    dates = timestamps.astype('M8[D]')\n",
    "    df['dates'] = dates\n",
    "    df.set_index('dates')\n",
    "\n",
    "    print(('total actions', len(actions)))\n",
    "    # use tokenizer to generate indices for every action\n",
    "    tokenizer = Tokenizer(lower=False)\n",
    "    tokenizer.fit_on_texts(actions.tolist())\n",
    "    action_index = tokenizer.word_index  \n",
    "\n",
    "    \n",
    "    # translate actions to indexes\n",
    "    actions_by_index = []\n",
    "    for action in actions:\n",
    "        actions_by_index.append(action_index[action])\n",
    "\n",
    "    df['actions_by_index'] = actions_by_index\n",
    "\n",
    "    dates_dict = {}\n",
    "    for index, row in df.iterrows():\n",
    "        #Remove the 'None' that are tokenized as 'None'\n",
    "        if str(row['actions_by_index']) != '2':\n",
    "            activity_list = dates_dict.get(str(index).split(\" \")[0], [])\n",
    "            activity_list.append(row['actions_by_index'])\n",
    "            dates_dict[str(index).split(\" \")[0]] = activity_list\n",
    "    \n",
    "    to_remove = []\n",
    "    for key in dates_dict:\n",
    "        if len(dates_dict[key]) <= number_of_actions:\n",
    "            to_remove.append(key)\n",
    "\n",
    "    for remove in to_remove:\n",
    "        dates_dict.pop(remove)\n",
    "\n",
    "    X_actions = []\n",
    "    y = []\n",
    "\n",
    "    for key in dates_dict:\n",
    "        last_action = len(dates_dict[key]) - 1\n",
    "\n",
    "        for i in range(last_action-number_of_actions):\n",
    "            X_actions.append(actions_by_index[i:i+number_of_actions])\n",
    "            # represent the target action as a one-hot for the softmax\n",
    "            target_action = ''.join(i for i in actions[i+number_of_actions] if not i.isdigit()) # remove the period if it exists\n",
    "            #target_action_onehot = np.zeros(len(unique_actions))\n",
    "            #target_action_onehot[unique_actions.index(target_action)] = 1.0\n",
    "            y.append(target_action)\n",
    "    \n",
    "    return X_actions, y"
   ]
  },
  {
   "cell_type": "code",
   "execution_count": 21,
   "metadata": {},
   "outputs": [],
   "source": [
    "# declare quantum instance\n",
    "qi = QuantumInstance(Aer.get_backend(\"qasm_simulator\"))"
   ]
  },
  {
   "cell_type": "code",
   "execution_count": null,
   "metadata": {},
   "outputs": [],
   "source": []
  },
  {
   "cell_type": "code",
   "execution_count": 54,
   "metadata": {},
   "outputs": [
    {
     "name": "stdout",
     "output_type": "stream",
     "text": [
      "Loading DATASET...\n",
      "D:\\Github\\DL_HAR\\kasteren_house_a\\reduced\\base_kasteren_reduced.csv\n",
      "DATASET loaded\n",
      "8\n",
      "('total actions', 1179)\n",
      "('Different actions:', 8)\n",
      "('Total examples:', 823)\n",
      "('Train examples:', 659, 659)\n",
      "('Test examples:', 164, 164)\n",
      "Shape (X,y):\n"
     ]
    }
   ],
   "source": [
    "# Generate random dataset\n",
    "\n",
    "# Select dataset dimension (num_inputs) and size (num_samples)\n",
    "num_inputs = 5\n",
    "num_samples = 20\n",
    "\n",
    "print('Loading DATASET...')\n",
    "DATASET = \"D:\\\\Github\\\\DL_HAR\\\\kasteren_house_a\\\\reduced\\\\base_kasteren_reduced.csv\"\n",
    "print(DATASET)\n",
    "df_har = pd.read_csv(DATASET, parse_dates=[[0]], index_col=0, sep=' ', header=None)\n",
    "df_har.columns = ['date','sensor', 'action', 'event', 'activity']\n",
    "df_har.index.names = [\"timestamp\"]\n",
    "print('DATASET loaded')\n",
    "\n",
    "UNIQUE_ACTIONS = 'D:\\\\Github\\\\DL_HAR\\\\kasteren_house_a\\\\reduced\\\\unique_activities.json'\n",
    "unique_actions = json.load(open(UNIQUE_ACTIONS, 'r'))\n",
    "total_actions = len(unique_actions)\n",
    "print(total_actions)\n",
    "\n",
    "X_actions, y = prepare_x_y(df_har, unique_actions, num_inputs) \n",
    "\n",
    "total_examples = len(X_actions)\n",
    "test_per = 0.2\n",
    "limit = int(test_per * total_examples)\n",
    "X_actions_train = X_actions[limit:]\n",
    "X_actions_test = X_actions[:limit]\n",
    "y_train = y[limit:]\n",
    "y_test = y[:limit]\n",
    "print(('Different actions:', total_actions))\n",
    "print(('Total examples:', total_examples))\n",
    "print(('Train examples:', len(X_actions_train), len(y_train))) \n",
    "print(('Test examples:', len(X_actions_test), len(y_test)))\n",
    "X_actions_train = np.array(X_actions_train)\n",
    "#y_train = np.array(y_train)\n",
    "X_actions_test = np.array(X_actions_test)\n",
    "#y_test = np.array(y_test)\n",
    "print('Shape (X,y):')\n",
    "#print((X_actions_train.shape))\n",
    "#print((y_train.shape))\n"
   ]
  },
  {
   "cell_type": "code",
   "execution_count": 50,
   "metadata": {},
   "outputs": [
    {
     "name": "stdout",
     "output_type": "stream",
     "text": [
      "ComposedOp([\n",
      "  OperatorMeasurement(1.0 * ZZZZZ),\n",
      "  CircuitStateFn(\n",
      "       ┌─────────────────────────────────────────┐»\n",
      "  q_0: ┤0                                        ├»\n",
      "       │                                         │»\n",
      "  q_1: ┤1                                        ├»\n",
      "       │                                         │»\n",
      "  q_2: ┤2 ZZFeatureMap(x[0],x[1],x[2],x[3],x[4]) ├»\n",
      "       │                                         │»\n",
      "  q_3: ┤3                                        ├»\n",
      "       │                                         │»\n",
      "  q_4: ┤4                                        ├»\n",
      "       └─────────────────────────────────────────┘»\n",
      "  «     ┌────────────────────────────────────────────────────────────────────────────────────────────────────────────────────────────────┐\n",
      "  «q_0: ┤0                                                                                                                               ├\n",
      "  «     │                                                                                                                                │\n",
      "  «q_1: ┤1                                                                                                                               ├\n",
      "  «     │                                                                                                                                │\n",
      "  «q_2: ┤2 RealAmplitudes(θ[0],θ[1],θ[2],θ[3],θ[4],θ[5],θ[6],θ[7],θ[8],θ[9],θ[10],θ[11],θ[12],θ[13],θ[14],θ[15],θ[16],θ[17],θ[18],θ[19]) ├\n",
      "  «     │                                                                                                                                │\n",
      "  «q_3: ┤3                                                                                                                               ├\n",
      "  «     │                                                                                                                                │\n",
      "  «q_4: ┤4                                                                                                                               ├\n",
      "  «     └────────────────────────────────────────────────────────────────────────────────────────────────────────────────────────────────┘\n",
      "  )\n",
      "])\n",
      "Initial weights:  [ 0.05479121 -0.01222431  0.07171958  0.03947361 -0.08116453  0.09512447\n",
      "  0.05222794  0.05721286 -0.07437727 -0.00992281 -0.0258404   0.085353\n",
      "  0.02877302  0.06455232 -0.01131716 -0.05455226  0.01091696 -0.08723655\n",
      "  0.06552623  0.02633288]\n"
     ]
    }
   ],
   "source": [
    "# Set up QNN\n",
    "# Note: we are not providing them explicitly in this examples,\n",
    "# but TwoLayerQNN requires a feature_map and ansatz to work.\n",
    "# By default, these parameters are set to  ZZFeatureMap\n",
    "# and RealAmplitudes (respectively).\n",
    "qnn1 = TwoLayerQNN(num_qubits=num_inputs, quantum_instance=qi)\n",
    "print(qnn1.operator)\n",
    "\n",
    "# Set up PyTorch module\n",
    "# Note: If we don't explicitly declare the initial weights\n",
    "# they are chosen uniformly at random from [-1, 1].\n",
    "initial_weights = 0.1 * (2 * algorithm_globals.random.random(qnn1.num_weights) - 1)\n",
    "model1 = TorchConnector(qnn1, initial_weights=initial_weights)\n",
    "print(\"Initial weights: \", initial_weights)"
   ]
  },
  {
   "cell_type": "code",
   "execution_count": 55,
   "metadata": {},
   "outputs": [
    {
     "ename": "ValueError",
     "evalue": "too many dimensions 'str'",
     "output_type": "error",
     "traceback": [
      "\u001b[1;31m---------------------------------------------------------------------------\u001b[0m",
      "\u001b[1;31mValueError\u001b[0m                                Traceback (most recent call last)",
      "\u001b[1;32m~\\AppData\\Local\\Temp/ipykernel_11812/2262067816.py\u001b[0m in \u001b[0;36m<module>\u001b[1;34m\u001b[0m\n\u001b[0;32m      2\u001b[0m \u001b[0mX_\u001b[0m \u001b[1;33m=\u001b[0m \u001b[0mTensor\u001b[0m\u001b[1;33m(\u001b[0m\u001b[0mX_actions_train\u001b[0m\u001b[1;33m)\u001b[0m\u001b[1;33m\u001b[0m\u001b[1;33m\u001b[0m\u001b[0m\n\u001b[0;32m      3\u001b[0m \u001b[1;31m#y01_ = Tensor(y01).reshape(len(y)).long()\u001b[0m\u001b[1;33m\u001b[0m\u001b[1;33m\u001b[0m\u001b[1;33m\u001b[0m\u001b[0m\n\u001b[1;32m----> 4\u001b[1;33m \u001b[0my_\u001b[0m \u001b[1;33m=\u001b[0m \u001b[0mTensor\u001b[0m\u001b[1;33m(\u001b[0m\u001b[0my_train\u001b[0m\u001b[1;33m)\u001b[0m\u001b[1;33m\u001b[0m\u001b[1;33m\u001b[0m\u001b[0m\n\u001b[0m",
      "\u001b[1;31mValueError\u001b[0m: too many dimensions 'str'"
     ]
    }
   ],
   "source": [
    "# Convert to torch Tensors\n",
    "X_ = Tensor(X_actions_train)\n",
    "#y01_ = Tensor(y01).reshape(len(y)).long()\n",
    "y_ = Tensor(y_train)"
   ]
  },
  {
   "cell_type": "code",
   "execution_count": 25,
   "metadata": {},
   "outputs": [
    {
     "data": {
      "text/plain": [
       "tensor([0.1543], grad_fn=<_TorchNNFunctionBackward>)"
      ]
     },
     "execution_count": 25,
     "metadata": {},
     "output_type": "execute_result"
    }
   ],
   "source": [
    "# Test with a single input\n",
    "model1(X_[0, :])"
   ]
  },
  {
   "cell_type": "code",
   "execution_count": 26,
   "metadata": {},
   "outputs": [
    {
     "name": "stdout",
     "output_type": "stream",
     "text": [
      "22.263240814208984\n",
      "20.643505096435547\n",
      "20.176959991455078\n",
      "19.1602783203125\n",
      "16.4984130859375\n",
      "17.592178344726562\n",
      "14.79940414428711\n",
      "14.80987548828125\n",
      "14.708248138427734\n",
      "13.35516357421875\n",
      "12.651985168457031\n",
      "12.799190521240234\n",
      "12.320198059082031\n",
      "12.568256378173828\n",
      "12.377925872802734\n",
      "11.825992584228516\n",
      "11.972843170166016\n",
      "12.363330841064453\n",
      "12.020210266113281\n",
      "12.139232635498047\n"
     ]
    },
    {
     "data": {
      "text/plain": [
       "tensor(22.2632, grad_fn=<MseLossBackward0>)"
      ]
     },
     "execution_count": 26,
     "metadata": {},
     "output_type": "execute_result"
    }
   ],
   "source": [
    "# Define optimizer and loss\n",
    "optimizer = LBFGS(model1.parameters())\n",
    "f_loss = MSELoss(reduction=\"sum\")\n",
    "\n",
    "# Start training\n",
    "model1.train()  # set model to training mode\n",
    "\n",
    "\n",
    "# Note from (https://pytorch.org/docs/stable/optim.html):\n",
    "# Some optimization algorithms such as LBFGS need to\n",
    "# reevaluate the function multiple times, so you have to\n",
    "# pass in a closure that allows them to recompute your model.\n",
    "# The closure should clear the gradients, compute the loss,\n",
    "# and return it.\n",
    "def closure():\n",
    "    optimizer.zero_grad()  # Initialize/clear gradients\n",
    "    loss = f_loss(model1(X_), y_)  # Evaluate loss function\n",
    "    loss.backward()  # Backward pass\n",
    "    print(loss.item())  # Print loss\n",
    "    return loss\n",
    "\n",
    "\n",
    "# Run optimizer step4\n",
    "optimizer.step(closure)"
   ]
  },
  {
   "cell_type": "code",
   "execution_count": 27,
   "metadata": {},
   "outputs": [
    {
     "name": "stdout",
     "output_type": "stream",
     "text": [
      "Accuracy: 0.95\n"
     ]
    },
    {
     "data": {
      "image/png": "[encoded data removed]",
      "text/plain": [
       "<Figure size 432x288 with 1 Axes>"
      ]
     },
     "metadata": {
      "needs_background": "light"
     },
     "output_type": "display_data"
    }
   ],
   "source": [
    "# Evaluate model and compute accuracy\n",
    "y_predict = []\n",
    "for x, y_target in zip(X, y):\n",
    "    output = model1(Tensor(x))\n",
    "    y_predict += [np.sign(output.detach().numpy())[0]]\n",
    "\n",
    "print(\"Accuracy:\", sum(y_predict == y) / len(y))\n",
    "\n",
    "# Plot results\n",
    "# red == wrongly classified\n",
    "for x, y_target, y_p in zip(X, y, y_predict):\n",
    "    if y_target == 1:\n",
    "        plt.plot(x[0], x[1], \"bo\")\n",
    "    else:\n",
    "        plt.plot(x[0], x[1], \"go\")\n",
    "    if y_target != y_p:\n",
    "        plt.scatter(x[0], x[1], s=200, facecolors=\"none\", edgecolors=\"r\", linewidths=2)\n",
    "plt.plot([-1, 1], [1, -1], \"--\", color=\"black\")\n",
    "plt.show()"
   ]
  },
  {
   "cell_type": "code",
   "execution_count": 28,
   "metadata": {},
   "outputs": [
    {
     "name": "stdout",
     "output_type": "stream",
     "text": [
      "Initial weights:  [-0.06588141  0.08502402  0.01621223 -0.03062604  0.0181831  -0.09543923\n",
      "  0.09171184 -0.00353931  0.05654705 -0.083454  ]\n"
     ]
    }
   ],
   "source": [
    "# Define feature map and ansatz\n",
    "feature_map = ZZFeatureMap(num_inputs)\n",
    "ansatz = RealAmplitudes(num_inputs, entanglement=\"linear\", reps=1)\n",
    "\n",
    "# Define quantum circuit of num_qubits = input dim\n",
    "# Append feature map and ansatz\n",
    "qc = QuantumCircuit(num_inputs)\n",
    "qc.append(feature_map, range(num_inputs))\n",
    "qc.append(ansatz, range(num_inputs))\n",
    "\n",
    "\n",
    "# Define CircuitQNN and initial setup\n",
    "parity = lambda x: \"{:b}\".format(x).count(\"1\") % 2  # optional interpret function\n",
    "output_shape = 2  # parity = 0, 1\n",
    "qnn2 = CircuitQNN(\n",
    "    qc,\n",
    "    input_params=feature_map.parameters,\n",
    "    weight_params=ansatz.parameters,\n",
    "    interpret=parity,\n",
    "    output_shape=output_shape,\n",
    "    quantum_instance=qi,\n",
    ")\n",
    "\n",
    "# Set up PyTorch module\n",
    "# Reminder: If we don't explicitly declare the initial weights\n",
    "# they are chosen uniformly at random from [-1, 1].\n",
    "initial_weights = 0.1 * (2 * algorithm_globals.random.random(qnn2.num_weights) - 1)\n",
    "print(\"Initial weights: \", initial_weights)\n",
    "model2 = TorchConnector(qnn2, initial_weights)"
   ]
  },
  {
   "cell_type": "code",
   "execution_count": 29,
   "metadata": {},
   "outputs": [
    {
     "name": "stdout",
     "output_type": "stream",
     "text": [
      "0.7175211906433105\n",
      "0.7150558233261108\n",
      "0.6993451714515686\n",
      "0.6540291905403137\n",
      "0.6389881372451782\n",
      "0.6454650163650513\n",
      "0.6375232934951782\n",
      "0.6263939738273621\n",
      "0.6278427839279175\n",
      "0.6673161387443542\n",
      "0.6201383471488953\n",
      "0.6229459047317505\n",
      "0.6236528754234314\n",
      "0.6206197738647461\n",
      "0.6208776235580444\n",
      "0.6223248839378357\n",
      "0.6145735383033752\n",
      "0.6184806823730469\n",
      "0.6181193590164185\n",
      "0.6191360950469971\n"
     ]
    },
    {
     "data": {
      "text/plain": [
       "tensor(0.7175, grad_fn=<NllLossBackward0>)"
      ]
     },
     "execution_count": 29,
     "metadata": {},
     "output_type": "execute_result"
    }
   ],
   "source": [
    "# Define model, optimizer, and loss\n",
    "optimizer = LBFGS(model2.parameters())\n",
    "f_loss = CrossEntropyLoss()  # Our output will be in the [0,1] range\n",
    "\n",
    "# Start training\n",
    "model2.train()\n",
    "\n",
    "# Define LBFGS closure method (explained in previous section)\n",
    "def closure():\n",
    "    optimizer.zero_grad(set_to_none=True)  # Initialize gradient\n",
    "    loss = f_loss(model2(X_), y01_)  # Calculate loss\n",
    "    loss.backward()  # Backward pass\n",
    "\n",
    "    print(loss.item())  # Print loss\n",
    "    return loss\n",
    "\n",
    "\n",
    "# Run optimizer (LBFGS requires closure)\n",
    "optimizer.step(closure)"
   ]
  },
  {
   "cell_type": "code",
   "execution_count": 31,
   "metadata": {},
   "outputs": [
    {
     "name": "stdout",
     "output_type": "stream",
     "text": [
      "Accuracy: 0.5\n"
     ]
    },
    {
     "data": {
      "image/png": "[encoded data removed]",
      "text/plain": [
       "<Figure size 432x288 with 1 Axes>"
      ]
     },
     "metadata": {
      "needs_background": "light"
     },
     "output_type": "display_data"
    }
   ],
   "source": [
    "# Evaluate model and compute accuracy\n",
    "y_predict = []\n",
    "for x in X:\n",
    "    output = model2(Tensor(x))\n",
    "    y_predict += [np.argmax(output.detach().numpy())]\n",
    "\n",
    "print(\"Accuracy:\", sum(y_predict == y01) / len(y01))\n",
    "\n",
    "# plot results\n",
    "# red == wrongly classified\n",
    "for x, y_target, y_ in zip(X, y01, y_predict):\n",
    "    if y_target == 1:\n",
    "        plt.plot(x[0], x[1], \"bo\")\n",
    "    else:\n",
    "        plt.plot(x[0], x[1], \"go\")\n",
    "    if y_target != y_:\n",
    "        plt.scatter(x[0], x[1], s=200, facecolors=\"none\", edgecolors=\"r\", linewidths=2)\n",
    "plt.plot([-1, 1], [1, -1], \"--\", color=\"black\")\n",
    "plt.show()"
   ]
  }
 ],
 "metadata": {
  "interpreter": {
   "hash": "b3ba2566441a7c06988d0923437866b63cedc61552a5af99d1f4fb67d367b25f"
  },
  "kernelspec": {
   "display_name": "Python 3.8.8 64-bit ('base': conda)",
   "language": "python",
   "name": "python3"
  },
  "language_info": {
   "codemirror_mode": {
    "name": "ipython",
    "version": 3
   },
   "file_extension": ".py",
   "mimetype": "text/x-python",
   "name": "python",
   "nbconvert_exporter": "python",
   "pygments_lexer": "ipython3",
   "version": "3.8.9"
  },
  "orig_nbformat": 4
 },
 "nbformat": 4,
 "nbformat_minor": 2
}
